{
 "cells": [
  {
   "cell_type": "code",
   "execution_count": 30,
   "metadata": {},
   "outputs": [],
   "source": [
    "import os\n",
    "import openai\n",
    "import sys\n",
    "sys.path.append('../..')\n",
    "\n",
    "from dotenv import load_dotenv, find_dotenv\n",
    "\n",
    "from glob import glob\n",
    "from os.path import join\n",
    "\n",
    "from tqdm import tqdm\n",
    "\n",
    "from langchain.document_loaders import PyPDFLoader\n",
    "\n",
    "from langchain.text_splitter import RecursiveCharacterTextSplitter\n",
    "from langchain.embeddings.openai import OpenAIEmbeddings\n",
    "from langchain.vectorstores import Chroma\n",
    "\n",
    "from langchain.llms import OpenAI\n",
    "\n",
    "from langchain.retrievers import ContextualCompressionRetriever\n",
    "from langchain.retrievers.document_compressors import LLMChainExtractor\n",
    "\n",
    "from langchain.prompts import PromptTemplate\n",
    "from langchain.chains import RetrievalQA, ConversationalRetrievalChain\n",
    "\n",
    "from langchain.memory import ConversationBufferMemory\n",
    "\n"
   ]
  },
  {
   "cell_type": "code",
   "execution_count": 7,
   "metadata": {},
   "outputs": [],
   "source": [
    "_ = load_dotenv(find_dotenv()) # read local .env file\n",
    "\n",
    "openai.api_key  = os.environ['OPENAI_API_KEY']"
   ]
  },
  {
   "cell_type": "markdown",
   "metadata": {},
   "source": [
    "# Creating ChromaDB"
   ]
  },
  {
   "cell_type": "code",
   "execution_count": 8,
   "metadata": {},
   "outputs": [
    {
     "name": "stderr",
     "output_type": "stream",
     "text": [
      "  0%|          | 0/34 [00:00<?, ?it/s]"
     ]
    },
    {
     "name": "stdout",
     "output_type": "stream",
     "text": [
      "/Users/patrick/Documents/Pessoal/paper-rag/inputs/full/A comprehensive survey on machine learning for networking - Evolution, applications and research opportunities.pdf\n"
     ]
    },
    {
     "name": "stderr",
     "output_type": "stream",
     "text": [
      "  3%|▎         | 1/34 [00:04<02:25,  4.40s/it]"
     ]
    },
    {
     "name": "stdout",
     "output_type": "stream",
     "text": [
      "/Users/patrick/Documents/Pessoal/paper-rag/inputs/full/Backhauling 5G Small Cells - A Radio Resource Management Perspective.pdf\n"
     ]
    },
    {
     "name": "stderr",
     "output_type": "stream",
     "text": [
      "  6%|▌         | 2/34 [00:04<01:05,  2.06s/it]"
     ]
    },
    {
     "name": "stdout",
     "output_type": "stream",
     "text": [
      "/Users/patrick/Documents/Pessoal/paper-rag/inputs/full/Improving traffic forecasting for 5G core network scalability - A machine learning approach.pdf\n"
     ]
    },
    {
     "name": "stderr",
     "output_type": "stream",
     "text": [
      " 12%|█▏        | 4/34 [00:06<00:32,  1.07s/it]"
     ]
    },
    {
     "name": "stdout",
     "output_type": "stream",
     "text": [
      "/Users/patrick/Documents/Pessoal/paper-rag/inputs/full/Clustering to Enhance Network Traffic Forecasting.pdf\n",
      "/Users/patrick/Documents/Pessoal/paper-rag/inputs/full/A Survey on Big Data for Network Traffic Monitoring and Analysis.pdf\n"
     ]
    },
    {
     "name": "stderr",
     "output_type": "stream",
     "text": [
      " 15%|█▍        | 5/34 [00:07<00:37,  1.29s/it]"
     ]
    },
    {
     "name": "stdout",
     "output_type": "stream",
     "text": [
      "/Users/patrick/Documents/Pessoal/paper-rag/inputs/full/A Self-Adaptive Deep Learning-Based System for Anomaly Detection in 5G Networks.pdf\n"
     ]
    },
    {
     "name": "stderr",
     "output_type": "stream",
     "text": [
      " 18%|█▊        | 6/34 [00:09<00:43,  1.55s/it]"
     ]
    },
    {
     "name": "stdout",
     "output_type": "stream",
     "text": [
      "/Users/patrick/Documents/Pessoal/paper-rag/inputs/full/Application of Machine Learning in Wireless Networks - Key Techniques and Open Issues.pdf\n"
     ]
    },
    {
     "name": "stderr",
     "output_type": "stream",
     "text": [
      " 21%|██        | 7/34 [00:12<00:54,  2.01s/it]"
     ]
    },
    {
     "name": "stdout",
     "output_type": "stream",
     "text": [
      "/Users/patrick/Documents/Pessoal/paper-rag/inputs/full/Massive MIMO CSI Feedback Based on Generative Adversarial Network.pdf\n"
     ]
    },
    {
     "name": "stderr",
     "output_type": "stream",
     "text": [
      " 24%|██▎       | 8/34 [00:13<00:39,  1.53s/it]"
     ]
    },
    {
     "name": "stdout",
     "output_type": "stream",
     "text": [
      "/Users/patrick/Documents/Pessoal/paper-rag/inputs/full/Spatiotemporal modeling and prediction in cellular networks - A big data enabled deep learning approach.pdf\n"
     ]
    },
    {
     "name": "stderr",
     "output_type": "stream",
     "text": [
      " 26%|██▋       | 9/34 [00:13<00:29,  1.18s/it]"
     ]
    },
    {
     "name": "stdout",
     "output_type": "stream",
     "text": [
      "/Users/patrick/Documents/Pessoal/paper-rag/inputs/full/TANGO - Traffic-Aware Network Planning and Green Operation.pdf\n"
     ]
    },
    {
     "name": "stderr",
     "output_type": "stream",
     "text": [
      " 29%|██▉       | 10/34 [00:14<00:22,  1.09it/s]"
     ]
    },
    {
     "name": "stdout",
     "output_type": "stream",
     "text": [
      "/Users/patrick/Documents/Pessoal/paper-rag/inputs/full/Hierarchical, virtualised and distributed intelligence 5G architecture for low-latency and secure applications.pdf\n"
     ]
    },
    {
     "name": "stderr",
     "output_type": "stream",
     "text": [
      " 32%|███▏      | 11/34 [00:14<00:17,  1.31it/s]"
     ]
    },
    {
     "name": "stdout",
     "output_type": "stream",
     "text": [
      "/Users/patrick/Documents/Pessoal/paper-rag/inputs/full/Big data-driven optimization for mobile networks toward 5G.pdf\n"
     ]
    },
    {
     "name": "stderr",
     "output_type": "stream",
     "text": [
      " 35%|███▌      | 12/34 [00:15<00:19,  1.12it/s]"
     ]
    },
    {
     "name": "stdout",
     "output_type": "stream",
     "text": [
      "/Users/patrick/Documents/Pessoal/paper-rag/inputs/full/Deep learning in mobile and wireless networking - A survey.pdf\n"
     ]
    },
    {
     "name": "stderr",
     "output_type": "stream",
     "text": [
      " 38%|███▊      | 13/34 [00:19<00:38,  1.83s/it]"
     ]
    },
    {
     "name": "stdout",
     "output_type": "stream",
     "text": [
      "/Users/patrick/Documents/Pessoal/paper-rag/inputs/full/Orchestrating Virtualized Network Functions.pdf\n"
     ]
    },
    {
     "name": "stderr",
     "output_type": "stream",
     "text": [
      " 41%|████      | 14/34 [00:23<00:46,  2.31s/it]"
     ]
    },
    {
     "name": "stdout",
     "output_type": "stream",
     "text": [
      "/Users/patrick/Documents/Pessoal/paper-rag/inputs/full/Spatial modeling of the traffic density in cellular networks.pdf\n"
     ]
    },
    {
     "name": "stderr",
     "output_type": "stream",
     "text": [
      " 44%|████▍     | 15/34 [00:23<00:32,  1.70s/it]"
     ]
    },
    {
     "name": "stdout",
     "output_type": "stream",
     "text": [
      "/Users/patrick/Documents/Pessoal/paper-rag/inputs/full/Analyzing and modeling spatio-temporal dependence of cellular traffic at city scale.pdf\n"
     ]
    },
    {
     "name": "stderr",
     "output_type": "stream",
     "text": [
      " 47%|████▋     | 16/34 [00:27<00:41,  2.28s/it]"
     ]
    },
    {
     "name": "stdout",
     "output_type": "stream",
     "text": [
      "/Users/patrick/Documents/Pessoal/paper-rag/inputs/full/Time4 - Time for SDN.pdf\n"
     ]
    },
    {
     "name": "stderr",
     "output_type": "stream",
     "text": [
      " 50%|█████     | 17/34 [00:29<00:41,  2.43s/it]"
     ]
    },
    {
     "name": "stdout",
     "output_type": "stream",
     "text": [
      "/Users/patrick/Documents/Pessoal/paper-rag/inputs/full/Understanding Mobile Traffic Patterns of Large Scale Cellular Towers in Urban Environment.pdf\n"
     ]
    },
    {
     "name": "stderr",
     "output_type": "stream",
     "text": [
      " 56%|█████▌    | 19/34 [00:33<00:29,  1.98s/it]"
     ]
    },
    {
     "name": "stdout",
     "output_type": "stream",
     "text": [
      "/Users/patrick/Documents/Pessoal/paper-rag/inputs/full/Generative-Adversarial-Network-Based wireless channel modeling - Challenges and opportunities.pdf\n",
      "/Users/patrick/Documents/Pessoal/paper-rag/inputs/full/Deploying Virtual Network Functions With Non-Uniform Models in Tree-Structured Networks.pdf\n"
     ]
    },
    {
     "name": "stderr",
     "output_type": "stream",
     "text": [
      " 59%|█████▉    | 20/34 [00:35<00:28,  2.01s/it]"
     ]
    },
    {
     "name": "stdout",
     "output_type": "stream",
     "text": [
      "/Users/patrick/Documents/Pessoal/paper-rag/inputs/full/Spatial Traffic Distribution In Cellular Networks.pdf\n"
     ]
    },
    {
     "name": "stderr",
     "output_type": "stream",
     "text": [
      " 62%|██████▏   | 21/34 [00:35<00:19,  1.47s/it]"
     ]
    },
    {
     "name": "stdout",
     "output_type": "stream",
     "text": [
      "/Users/patrick/Documents/Pessoal/paper-rag/inputs/full/Resource Sharing Efficiency in Network_Slicing.pdf\n"
     ]
    },
    {
     "name": "stderr",
     "output_type": "stream",
     "text": [
      " 65%|██████▍   | 22/34 [00:43<00:38,  3.22s/it]"
     ]
    },
    {
     "name": "stdout",
     "output_type": "stream",
     "text": [
      "/Users/patrick/Documents/Pessoal/paper-rag/inputs/full/35-GHz Barium Hexaferrite or PDMS Composite-Based Millimeter-Wave Circulators for 5G Applications.pdf\n"
     ]
    },
    {
     "name": "stderr",
     "output_type": "stream",
     "text": [
      " 68%|██████▊   | 23/34 [00:43<00:27,  2.47s/it]"
     ]
    },
    {
     "name": "stdout",
     "output_type": "stream",
     "text": [
      "/Users/patrick/Documents/Pessoal/paper-rag/inputs/full/Long-term mobile traffic forecasting using deep spatio-temporal neural networks.pdf\n"
     ]
    },
    {
     "name": "stderr",
     "output_type": "stream",
     "text": [
      " 71%|███████   | 24/34 [00:52<00:44,  4.47s/it]"
     ]
    },
    {
     "name": "stdout",
     "output_type": "stream",
     "text": [
      "/Users/patrick/Documents/Pessoal/paper-rag/inputs/full/Towards Supporting Intelligence in 5G-6G Core.pdf\n"
     ]
    },
    {
     "name": "stderr",
     "output_type": "stream",
     "text": [
      " 74%|███████▎  | 25/34 [00:53<00:28,  3.21s/it]"
     ]
    },
    {
     "name": "stdout",
     "output_type": "stream",
     "text": [
      "/Users/patrick/Documents/Pessoal/paper-rag/inputs/full/Characterizing the spatio-temporal inhomogeneity of mobile traffic in large-scale cellular data networks.pdf\n"
     ]
    },
    {
     "name": "stderr",
     "output_type": "stream",
     "text": [
      " 76%|███████▋  | 26/34 [00:53<00:19,  2.39s/it]"
     ]
    },
    {
     "name": "stdout",
     "output_type": "stream",
     "text": [
      "/Users/patrick/Documents/Pessoal/paper-rag/inputs/full/Spatio-temporal analysis and prediction of cellular traffic in metropolis.pdf\n"
     ]
    },
    {
     "name": "stderr",
     "output_type": "stream",
     "text": [
      " 79%|███████▉  | 27/34 [00:54<00:14,  2.02s/it]"
     ]
    },
    {
     "name": "stdout",
     "output_type": "stream",
     "text": [
      "/Users/patrick/Documents/Pessoal/paper-rag/inputs/full/A network traffic forecasting method based on SA optimized ARIMA-BP neural network.pdf\n"
     ]
    },
    {
     "name": "stderr",
     "output_type": "stream",
     "text": [
      " 82%|████████▏ | 28/34 [00:57<00:13,  2.33s/it]"
     ]
    },
    {
     "name": "stdout",
     "output_type": "stream",
     "text": [
      "/Users/patrick/Documents/Pessoal/paper-rag/inputs/full/A gated dilated causal convolution based encoder-decoder for network traffic forecasting.pdf\n"
     ]
    },
    {
     "name": "stderr",
     "output_type": "stream",
     "text": [
      " 85%|████████▌ | 29/34 [00:58<00:08,  1.76s/it]"
     ]
    },
    {
     "name": "stdout",
     "output_type": "stream",
     "text": [
      "/Users/patrick/Documents/Pessoal/paper-rag/inputs/full/Representational power of Restricted Boltzmann Machines and Deep Belief Networks.pdf\n"
     ]
    },
    {
     "name": "stderr",
     "output_type": "stream",
     "text": [
      " 88%|████████▊ | 30/34 [00:58<00:05,  1.35s/it]"
     ]
    },
    {
     "name": "stdout",
     "output_type": "stream",
     "text": [
      "/Users/patrick/Documents/Pessoal/paper-rag/inputs/full/Design of mm-Wave Slow-Wave-Coupled Coplanar Waveguides.pdf\n"
     ]
    },
    {
     "name": "stderr",
     "output_type": "stream",
     "text": [
      " 91%|█████████ | 31/34 [01:02<00:06,  2.05s/it]"
     ]
    },
    {
     "name": "stdout",
     "output_type": "stream",
     "text": [
      "/Users/patrick/Documents/Pessoal/paper-rag/inputs/full/Beyond Moran’s I - Testing for spatial dependence based on the spatial autoregressive model.pdf\n"
     ]
    },
    {
     "name": "stderr",
     "output_type": "stream",
     "text": [
      " 94%|█████████▍| 32/34 [01:05<00:04,  2.48s/it]"
     ]
    },
    {
     "name": "stdout",
     "output_type": "stream",
     "text": [
      "/Users/patrick/Documents/Pessoal/paper-rag/inputs/full/Exploring Network-Wide Flow Data With Flowyager.pdf\n"
     ]
    },
    {
     "name": "stderr",
     "output_type": "stream",
     "text": [
      " 97%|█████████▋| 33/34 [01:34<00:10, 10.32s/it]"
     ]
    },
    {
     "name": "stdout",
     "output_type": "stream",
     "text": [
      "/Users/patrick/Documents/Pessoal/paper-rag/inputs/full/Resource Allocation in NFV- A Comprehensive Survey.pdf\n"
     ]
    },
    {
     "name": "stderr",
     "output_type": "stream",
     "text": [
      "100%|██████████| 34/34 [01:38<00:00,  2.89s/it]\n"
     ]
    }
   ],
   "source": [
    "files_dir = '/Users/patrick/Documents/Pessoal/paper-rag/inputs/full'\n",
    "\n",
    "# Use a função glob para listar todos os arquivos PDF no diretório\n",
    "pdf_files = glob(f'{files_dir}/*.pdf')\n",
    "\n",
    "docs=[]\n",
    "\n",
    "for arquivo in tqdm(pdf_files):\n",
    "    print(arquivo)\n",
    "\n",
    "    loader = PyPDFLoader(join(files_dir, arquivo))\n",
    "    docs.extend(loader.load())"
   ]
  },
  {
   "cell_type": "code",
   "execution_count": 9,
   "metadata": {},
   "outputs": [],
   "source": [
    "text_splitter = RecursiveCharacterTextSplitter(\n",
    "    chunk_size = 1500,\n",
    "    chunk_overlap = 150\n",
    ")\n",
    "\n",
    "splits = text_splitter.split_documents(docs)"
   ]
  },
  {
   "cell_type": "code",
   "execution_count": 10,
   "metadata": {},
   "outputs": [],
   "source": [
    "#!rm -Rf /Users/patrick/Documents/Pessoal/paper-rag/chroma/\n",
    "\n",
    "embedding = OpenAIEmbeddings()\n",
    "persist_directory = '/Users/patrick/Documents/Pessoal/paper-rag/chroma_full/'\n",
    "\n",
    "vectordb = Chroma.from_documents(\n",
    "    documents=splits,\n",
    "    embedding=embedding,\n",
    "    persist_directory=persist_directory\n",
    ")"
   ]
  },
  {
   "cell_type": "markdown",
   "metadata": {},
   "source": [
    "# Model"
   ]
  },
  {
   "cell_type": "code",
   "execution_count": 13,
   "metadata": {},
   "outputs": [],
   "source": [
    "llm = OpenAI(temperature=0)  # Model used"
   ]
  },
  {
   "cell_type": "markdown",
   "metadata": {},
   "source": [
    "# Template"
   ]
  },
  {
   "cell_type": "code",
   "execution_count": 22,
   "metadata": {},
   "outputs": [],
   "source": [
    "# Build prompt\n",
    "template = \"\"\"Use the following pieces of context to answer the question at the end. If you can't make a answer with context, just say that you don't know, don't try to make up an answer. Give the document name from where the information is extracted\n",
    "{context}\n",
    "Question: {question}\n",
    "Helpful Answer:\"\"\"\n",
    "\n",
    "QA_CHAIN_PROMPT = PromptTemplate.from_template(template)"
   ]
  },
  {
   "cell_type": "markdown",
   "metadata": {},
   "source": [
    "# Compression retrieval method configuration"
   ]
  },
  {
   "cell_type": "code",
   "execution_count": 23,
   "metadata": {},
   "outputs": [],
   "source": [
    "# Wrap our vectorstore\n",
    "compressor = LLMChainExtractor.from_llm(llm)  # uses an LLMChain to extract from each document only the statements that are relevant to the query.\n",
    "\n",
    "compression_retriever = ContextualCompressionRetriever(\n",
    "    base_compressor=compressor,\n",
    "    base_retriever=vectordb.as_retriever(search_type = \"mmr\")  # Retriever method using MMR retrieval to ensure variability in the answer\n",
    ")"
   ]
  },
  {
   "cell_type": "markdown",
   "metadata": {},
   "source": [
    "# Memory\n",
    "\n",
    "Ref: https://github.com/langchain-ai/langchain/issues/2256"
   ]
  },
  {
   "cell_type": "code",
   "execution_count": 44,
   "metadata": {},
   "outputs": [],
   "source": [
    "memory = ConversationBufferMemory(\n",
    "    memory_key=\"chat_history\",\n",
    "    return_messages=True,\n",
    "    output_key='result'\n",
    ")"
   ]
  },
  {
   "cell_type": "markdown",
   "metadata": {},
   "source": [
    "# Chain assembling"
   ]
  },
  {
   "cell_type": "code",
   "execution_count": 45,
   "metadata": {},
   "outputs": [],
   "source": [
    "# Run chain\n",
    "qa_chain = RetrievalQA.from_chain_type(\n",
    "    llm,\n",
    "    retriever=compression_retriever,\n",
    "    return_source_documents=True,\n",
    "    chain_type_kwargs={\"prompt\": QA_CHAIN_PROMPT},\n",
    "    memory=memory\n",
    ")"
   ]
  },
  {
   "cell_type": "code",
   "execution_count": 90,
   "metadata": {},
   "outputs": [
    {
     "name": "stdout",
     "output_type": "stream",
     "text": [
      " 5G is the upcoming fifth generation cellular technology which is expected to be rolled out by 2020. It is envisioned as the technology that will connect a huge number of end-devices and offer native support to more diverse service types with quality of service (QoS) provisioning.\n",
      "\n",
      "\n",
      "Source:  Backhauling 5G Small Cells - A Radio Resource Management Perspective.pdf\n",
      "Page:  0\n",
      "\n",
      "\n",
      "Source:  Deep learning in mobile and wireless networking - A survey.pdf\n",
      "Page:  53\n",
      "\n",
      "\n",
      "Source:  Hierarchical, virtualised and distributed intelligence 5G architecture for low-latency and secure applications.pdf\n",
      "Page:  3\n",
      "\n",
      "\n",
      "Source:  Application of Machine Learning in Wireless Networks - Key Techniques and Open Issues.pdf\n",
      "Page:  3\n",
      "\n",
      "\n"
     ]
    }
   ],
   "source": [
    "question = \"What is 5G?\"\n",
    "result = qa_chain({\"query\": question})\n",
    "\n",
    "print(result[\"result\"])\n",
    "print('\\n')\n",
    "\n",
    "for source in result['source_documents']:\n",
    "    print ('Source: ', source.metadata['source'].split('/')[-1])\n",
    "    print('Page: ', source.metadata['page'])\n",
    "    print('\\n')"
   ]
  },
  {
   "cell_type": "code",
   "execution_count": 91,
   "metadata": {},
   "outputs": [
    {
     "name": "stdout",
     "output_type": "stream",
     "text": [
      " The challenges in 5G implementation include resource management, networking, mobility management, localization, security, open access, virtualized security, multi-tenancy, and low latency.\n",
      "\n",
      "\n",
      "Source:  Application of Machine Learning in Wireless Networks - Key Techniques and Open Issues.pdf\n",
      "Page:  0\n",
      "\n",
      "\n",
      "Source:  Big data-driven optimization for mobile networks toward 5G.pdf\n",
      "Page:  6\n",
      "\n",
      "\n",
      "Source:  Hierarchical, virtualised and distributed intelligence 5G architecture for low-latency and secure applications.pdf\n",
      "Page:  1\n",
      "\n",
      "\n"
     ]
    }
   ],
   "source": [
    "question = \"What are the challenges in 5G implementation?\"\n",
    "result = qa_chain({\"query\": question})\n",
    "\n",
    "print(result[\"result\"])\n",
    "print('\\n')\n",
    "\n",
    "for source in result['source_documents']:\n",
    "    print('Source: ', source.metadata['source'].split('/')[-1])\n",
    "    print('Page: ', source.metadata['page'])\n",
    "    print('\\n')"
   ]
  },
  {
   "cell_type": "code",
   "execution_count": 92,
   "metadata": {},
   "outputs": [
    {
     "name": "stdout",
     "output_type": "stream",
     "text": [
      " The first challenge mentioned in the context is the need for algorithmic design enhancement for resource management, networking, mobility management and localization. This is necessary to ensure that the stringent requirements of 5G are met.\n",
      "\n",
      "\n",
      "Source:  Backhauling 5G Small Cells - A Radio Resource Management Perspective.pdf\n",
      "Page:  0\n",
      "\n",
      "\n",
      "Source:  Application of Machine Learning in Wireless Networks - Key Techniques and Open Issues.pdf\n",
      "Page:  0\n",
      "\n",
      "\n",
      "Source:  Big data-driven optimization for mobile networks toward 5G.pdf\n",
      "Page:  6\n",
      "\n",
      "\n",
      "Source:  Hierarchical, virtualised and distributed intelligence 5G architecture for low-latency and secure applications.pdf\n",
      "Page:  1\n",
      "\n",
      "\n"
     ]
    }
   ],
   "source": [
    "question = \"Can you talk more about the first challenge in 5G implementation mentioned?\"\n",
    "result = qa_chain({\"query\": question})\n",
    "\n",
    "print(result[\"result\"])\n",
    "print('\\n')\n",
    "\n",
    "for source in result['source_documents']:\n",
    "    print('Source: ', source.metadata['source'].split('/')[-1])\n",
    "    print('Page: ', source.metadata['page'])\n",
    "    print('\\n')"
   ]
  },
  {
   "cell_type": "code",
   "execution_count": 93,
   "metadata": {},
   "outputs": [
    {
     "name": "stdout",
     "output_type": "stream",
     "text": [
      " This article presents an analysis of traffic measurements collected from commercial cellular networks in China, demonstrating that the spatial distribution of the traffic density can be approximated by the log-normal or Weibull distribution. The authors then propose a spatial traffic model which generates large-scale spatial traffic variations by a sum of sinusoids that captures the characteristics of log-normally distributed and spatially correlated cellular traffic. The proposed model can be used to generate realistic spatial traffic patterns for cellular network simulations, such as performance evaluations of network planning and load balancing.\n",
      "\n",
      "\n",
      "Source:  Spatial modeling of the traffic density in cellular networks.pdf\n",
      "Page:  0\n",
      "Content:  \"Modeling and simulation of a cellular network typically assumes that the target area is divided into regular hexagonal cells and mobile stations (MSs) are uniformly scattered in each cell. This implies a statistically uniform distribution of traffic load over space, but in reality the spatial traffic distribution is highly non-uniform across different cells, which calls for actual spatial traffic models. In this article, we first present the analysis of traffic measurements collected from commercial cellular networks in China, and demonstrate that the spatial distribution of the traffic density (the traffic load per unit area) can be approximated by the log-normal or Weibull distribution depending on time and space. Then we propose a spatial traffic model which generates large-scale spatial traffic variations by a sum of sinusoids that captures the characteristics of log-normally distributed and spatially correlated cellular traffic. The proposed model can be directly used to generate realistic spatial traffic patterns for cellular network simulations, such as performance evaluations of network planning and load balancing.\"\n",
      "\n",
      "\n",
      "Source:  Spatial modeling of the traffic density in cellular networks.pdf\n",
      "Page:  6\n",
      "Content:  In the simulation work in [12], the authors generate temporal and spatial variations of the user arrival rate for each cell by assuming the log-normal distribution for the spatial distribution of traffic load across cells. Then we propose a spatial traffic model which generates large-scale spatial traffic variations by a sum of sinusoids that captures the characteristics of log-normally distributed and spatially correlated cellular traffic. The proposed model can be directly used to generate realistic spatial traffic patterns for cellular network simulations, such as performance evaluations of network planning and load balancing.\n",
      "\n",
      "\n",
      "Source:  Spatio-temporal analysis and prediction of cellular traffic in metropolis.pdf\n",
      "Page:  2\n",
      "Content:  demonstrates that the spatial distribution of the trafﬁc density can be approximated by the log-normal or Weibull distribution. Furthermore, [4] ﬁnds that the mobile trafﬁc loads follow a trimodal distribution, which is the combination of compound-exponential, power-law and exponential distributions, in terms of both spatial and temporal dimension. [23] analyzes the application-level trafﬁc and demonstrates that the trafﬁc at a service or application has a-stable modeled property in the temporal domain and the sparsity in the spatial domain. Applying statistical covariance functions, a recent work [8] considers temporal and spatial factors simultaneously, which is the most similar to our work.\n",
      "\n",
      "\n",
      "Source:  Spatial Traffic Distribution In Cellular Networks.pdf\n",
      "Page:  1\n",
      "Content:  \"Fig. 3 Cell traffic distribution, logarithmic scale \n",
      "June 97 I 2% Fig. 4 BSC traffic distribution, logarithmic scale \n",
      "4% shift when all traffic values are multiplied by the same factor. \n",
      "Fig. 3 (resp. Fig. 4) shows the same distribution of traffic \n",
      "values as Fig. 1 (resp. Fig. 2) on a logarithmic scale. The \n",
      "envelope in Fig. 3 resembles the familiar shape of a normal \n",
      "distribution. Taking into account the smaller sample size \n",
      "(about 300 BSC areas in Figs. 2,4 compared to about 16000 \n",
      "cells in Figs. 1,3), this resemblance can also be seen in Fig. 4. \n",
      "In our experience, this shape of distribution curve is very \n",
      "common on any scale. We summarize this in the form: The \n",
      "spatial statistics of cellular tra& can be described by a \n",
      "lognormal distribution\"\n",
      "\n",
      "\n"
     ]
    }
   ],
   "source": [
    "abstract=\"\"\"Modeling and simulation of a cellular network typically assumes that the target area is divided into regular hexagonal cells and mobile stations (MSs) are uniformly scattered in each cell. This implies a statistically uniform distribution of traffic load over space, but in reality the spatial traffic distribution is highly non-uniform across different cells, which calls for actual spatial traffic models. In this article, we first present the analysis of traffic measurements collected from commercial cellular networks in China, and demonstrate that the spatial distribution of the traffic density (the traffic load per unit area) can be approximated by the log-normal or Weibull distribution depending on time and space. Then we propose a spatial traffic model which generates large-scale spatial traffic variations by a sum of sinusoids that captures the characteristics of log-normally distributed and spatially correlated cellular traffic. The proposed model can be directly used to generate realistic spatial traffic patterns for cellular network simulations, such as performance evaluations of network planning and load balancing.\"\"\"\n",
    "\n",
    "question = \"Find a abstract similar to the mentioned below: \" + abstract\n",
    "result = qa_chain({\"query\": question})\n",
    "\n",
    "print(result[\"result\"])\n",
    "print('\\n')\n",
    "\n",
    "for source in result['source_documents']:\n",
    "    print('Source: ', source.metadata['source'].split('/')[-1])\n",
    "    print('Page: ', source.metadata['page'])\n",
    "    print('Content: ', source.page_content)\n",
    "    print('\\n')"
   ]
  },
  {
   "cell_type": "code",
   "execution_count": null,
   "metadata": {},
   "outputs": [],
   "source": []
  }
 ],
 "metadata": {
  "kernelspec": {
   "display_name": "langflow",
   "language": "python",
   "name": "python3"
  },
  "language_info": {
   "codemirror_mode": {
    "name": "ipython",
    "version": 3
   },
   "file_extension": ".py",
   "mimetype": "text/x-python",
   "name": "python",
   "nbconvert_exporter": "python",
   "pygments_lexer": "ipython3",
   "version": "3.11.4"
  }
 },
 "nbformat": 4,
 "nbformat_minor": 2
}
