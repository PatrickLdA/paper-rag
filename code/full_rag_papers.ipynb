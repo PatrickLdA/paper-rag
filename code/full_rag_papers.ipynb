{
 "cells": [
  {
   "cell_type": "code",
   "execution_count": 8,
   "metadata": {},
   "outputs": [],
   "source": [
    "# !pip install black\n",
    "# !pip install tiktoken\n",
    "# !pip install pypdf\n",
    "# !pip install chromadb\n",
    "# !pip install langchain\n",
    "# !pip install -U langchain-community"
   ]
  },
  {
   "cell_type": "code",
   "execution_count": 1,
   "metadata": {},
   "outputs": [],
   "source": [
    "import os\n",
    "import openai\n",
    "import sys\n",
    "sys.path.append('../..')\n",
    "\n",
    "from dotenv import load_dotenv, find_dotenv\n",
    "\n",
    "from glob import glob\n",
    "from os.path import join\n",
    "\n",
    "from tqdm import tqdm\n",
    "\n",
    "from langchain.document_loaders import PyPDFLoader\n",
    "\n",
    "from langchain.text_splitter import RecursiveCharacterTextSplitter\n",
    "from langchain.embeddings.openai import OpenAIEmbeddings\n",
    "from langchain.vectorstores import Chroma\n",
    "\n",
    "from langchain.llms import OpenAI\n",
    "\n",
    "from langchain.retrievers import ContextualCompressionRetriever\n",
    "from langchain.retrievers.document_compressors import LLMChainExtractor\n",
    "\n",
    "from langchain.prompts import PromptTemplate\n",
    "from langchain.chains import RetrievalQA, ConversationalRetrievalChain\n",
    "\n",
    "from langchain.memory import ConversationBufferMemory\n",
    "\n"
   ]
  },
  {
   "cell_type": "code",
   "execution_count": 2,
   "metadata": {},
   "outputs": [],
   "source": [
    "load_dotenv(find_dotenv()) # read local .env file\n",
    "\n",
    "openai.api_key  = os.environ['OPENAI_API_KEY']"
   ]
  },
  {
   "cell_type": "markdown",
   "metadata": {},
   "source": [
    "# Creating ChromaDB"
   ]
  },
  {
   "cell_type": "code",
   "execution_count": 7,
   "metadata": {},
   "outputs": [],
   "source": [
    "import pickle\n",
    "with open(\"docs.pkl\", \"wb\") as file:\n",
    "    pickle.dump(docs, file)"
   ]
  },
  {
   "cell_type": "code",
   "execution_count": 3,
   "metadata": {},
   "outputs": [],
   "source": [
    "files_dir = '/home/patrick/Documents/Github/paper-rag/inputs'\n",
    "\n",
    "# # Use a função glob para listar todos os arquivos PDF no diretório\n",
    "# pdf_files = glob(f'{files_dir}/*.pdf')\n",
    "\n",
    "# docs=[]\n",
    "\n",
    "# # Percorre todos os arquivos PDF da base e extrai o texto dos mesmos com o PyPDFLoader\n",
    "# for arquivo in tqdm(pdf_files):\n",
    "#     print(arquivo)\n",
    "\n",
    "#     loader = PyPDFLoader(join(files_dir, arquivo))\n",
    "#     docs.extend(loader.load())\n",
    "\n",
    "import pickle\n",
    "with open(\"docs.pkl\", \"rb\") as file:\n",
    "    docs = pickle.load(file)\n"
   ]
  },
  {
   "cell_type": "code",
   "execution_count": 4,
   "metadata": {},
   "outputs": [],
   "source": [
    "# Processo de chunking: pega os textos e quebra em chunks/pedaços\n",
    "\n",
    "text_splitter = RecursiveCharacterTextSplitter(\n",
    "    chunk_size = 1500,  # Tamanho do chunk (em tokens)\n",
    "    chunk_overlap = 150  # Sobreposição dos chunks para evitar a quebra abrupta de temas\n",
    ")\n",
    "\n",
    "splits = text_splitter.split_documents(docs)"
   ]
  },
  {
   "cell_type": "code",
   "execution_count": 5,
   "metadata": {},
   "outputs": [
    {
     "name": "stderr",
     "output_type": "stream",
     "text": [
      "/home/patrick/anaconda3/lib/python3.11/site-packages/langchain_core/_api/deprecation.py:119: LangChainDeprecationWarning: The class `OpenAIEmbeddings` was deprecated in LangChain 0.0.9 and will be removed in 0.3.0. An updated version of the class exists in the langchain-openai package and should be used instead. To use it run `pip install -U langchain-openai` and import as `from langchain_openai import OpenAIEmbeddings`.\n",
      "  warn_deprecated(\n"
     ]
    }
   ],
   "source": [
    "#!rm -Rf /Users/patrick/Documents/Pessoal/paper-rag/chroma/\n",
    "\n",
    "embedding = OpenAIEmbeddings()\n",
    "persist_directory = '../chroma_full/'\n",
    "\n",
    "vectordb = Chroma.from_documents(\n",
    "    documents=splits,\n",
    "    embedding=embedding,\n",
    "    persist_directory=persist_directory\n",
    ")"
   ]
  },
  {
   "cell_type": "markdown",
   "metadata": {},
   "source": [
    "# Model"
   ]
  },
  {
   "cell_type": "code",
   "execution_count": 6,
   "metadata": {},
   "outputs": [
    {
     "name": "stderr",
     "output_type": "stream",
     "text": [
      "/home/patrick/anaconda3/lib/python3.11/site-packages/langchain_core/_api/deprecation.py:119: LangChainDeprecationWarning: The class `OpenAI` was deprecated in LangChain 0.0.10 and will be removed in 0.3.0. An updated version of the class exists in the langchain-openai package and should be used instead. To use it run `pip install -U langchain-openai` and import as `from langchain_openai import OpenAI`.\n",
      "  warn_deprecated(\n"
     ]
    }
   ],
   "source": [
    "llm = OpenAI(temperature=0)  # Model used"
   ]
  },
  {
   "cell_type": "markdown",
   "metadata": {},
   "source": [
    "# Template"
   ]
  },
  {
   "cell_type": "code",
   "execution_count": 7,
   "metadata": {},
   "outputs": [],
   "source": [
    "# Build prompt\n",
    "template = \"\"\"Use the following context to answer the question at the end. If you can't make a answer with context, just say that you don't know, don't try to make up an answer.\n",
    "Context: {context}\n",
    "Question: {question}\n",
    "Helpful Answer:\"\"\"\n",
    "\n",
    "QA_CHAIN_PROMPT = PromptTemplate.from_template(template)"
   ]
  },
  {
   "cell_type": "markdown",
   "metadata": {},
   "source": [
    "# Compression retrieval method configuration"
   ]
  },
  {
   "cell_type": "code",
   "execution_count": 8,
   "metadata": {},
   "outputs": [],
   "source": [
    "# Wrap our vectorstore\n",
    "compressor = LLMChainExtractor.from_llm(llm)  # uses an LLMChain to extract from each document only the statements that are relevant to the query.\n",
    "\n",
    "compression_retriever = ContextualCompressionRetriever(\n",
    "    base_compressor=compressor,\n",
    "    base_retriever=vectordb.as_retriever(search_type = \"mmr\")  # Retriever method using MMR retrieval to ensure variability in the answer\n",
    ")"
   ]
  },
  {
   "cell_type": "markdown",
   "metadata": {},
   "source": [
    "# Memory\n",
    "\n",
    "Ref: https://github.com/langchain-ai/langchain/issues/2256"
   ]
  },
  {
   "cell_type": "code",
   "execution_count": 9,
   "metadata": {},
   "outputs": [],
   "source": [
    "memory = ConversationBufferMemory(\n",
    "    memory_key=\"chat_history\",\n",
    "    return_messages=True,\n",
    "    output_key='result'\n",
    ")"
   ]
  },
  {
   "cell_type": "markdown",
   "metadata": {},
   "source": [
    "# Chain assembling"
   ]
  },
  {
   "cell_type": "code",
   "execution_count": 10,
   "metadata": {},
   "outputs": [],
   "source": [
    "# Run chain\n",
    "qa_chain = RetrievalQA.from_chain_type(\n",
    "    llm,\n",
    "    retriever=compression_retriever,\n",
    "    return_source_documents=True,\n",
    "    chain_type_kwargs={\"prompt\": QA_CHAIN_PROMPT},\n",
    "    # memory=memory\n",
    ")"
   ]
  },
  {
   "cell_type": "code",
   "execution_count": 11,
   "metadata": {},
   "outputs": [
    {
     "name": "stderr",
     "output_type": "stream",
     "text": [
      "/home/patrick/anaconda3/lib/python3.11/site-packages/langchain_core/_api/deprecation.py:119: LangChainDeprecationWarning: The method `Chain.__call__` was deprecated in langchain 0.1.0 and will be removed in 0.3.0. Use invoke instead.\n",
      "  warn_deprecated(\n"
     ]
    },
    {
     "name": "stdout",
     "output_type": "stream",
     "text": [
      " 5G is the upcoming fifth generation of cellular technology that is expected to be rolled out by 2020. It will be a significant change in mobile networking, offering support for a wider range of services and improved quality of service. \n",
      "\n",
      "\n",
      "Source:  Backhauling 5G Small Cells - A Radio Resource Management Perspective.pdf\n",
      "Page:  0\n",
      "\n",
      "\n",
      "Source:  Deep learning in mobile and wireless networking - A survey.pdf\n",
      "Page:  53\n",
      "\n",
      "\n",
      "Source:  A Self-Adaptive Deep Learning-Based System for Anomaly Detection in 5G Networks.pdf\n",
      "Page:  0\n",
      "\n",
      "\n",
      "Source:  Application of Machine Learning in Wireless Networks - Key Techniques and Open Issues.pdf\n",
      "Page:  3\n",
      "\n",
      "\n"
     ]
    }
   ],
   "source": [
    "question = \"What is 5G?\"\n",
    "result = qa_chain({\"query\": question})\n",
    "\n",
    "print(result[\"result\"])\n",
    "print('\\n')\n",
    "\n",
    "for source in result['source_documents']:\n",
    "    print ('Source: ', source.metadata['source'].split('/')[-1])\n",
    "    print('Page: ', source.metadata['page'] + 1)\n",
    "    print('\\n')"
   ]
  },
  {
   "cell_type": "code",
   "execution_count": 13,
   "metadata": {},
   "outputs": [
    {
     "name": "stdout",
     "output_type": "stream",
     "text": [
      " Some of the challenges in 5G implementation include the need for low latency, increased connection density, and the ability to support a wide range of use cases and applications. There is also a need for improved resource management, networking, mobility management, and localization algorithms to meet the performance requirements of 5G. Additionally, the explosive growth of data and the integration of AI into the network present privacy and security risks that must be addressed. Finally, there is a need to properly address these challenges in order to maximize the network's performance and ensure high returns on investment for mobile network operators.\n",
      "\n",
      "\n",
      "Source:  Backhauling 5G Small Cells - A Radio Resource Management Perspective.pdf\n",
      "Page:  1\n",
      "\n",
      "\n",
      "Source:  Towards Supporting Intelligence in 5G-6G Core.pdf\n",
      "Page:  5\n",
      "\n",
      "\n",
      "Source:  Application of Machine Learning in Wireless Networks - Key Techniques and Open Issues.pdf\n",
      "Page:  1\n",
      "\n",
      "\n",
      "Source:  Big data-driven optimization for mobile networks toward 5G.pdf\n",
      "Page:  7\n",
      "\n",
      "\n"
     ]
    }
   ],
   "source": [
    "question = \"What are the challenges in 5G implementation?\"\n",
    "result = qa_chain({\"query\": question})\n",
    "\n",
    "print(result[\"result\"])\n",
    "print('\\n')\n",
    "\n",
    "for source in result['source_documents']:\n",
    "    print('Source: ', source.metadata['source'].split('/')[-1])\n",
    "    print('Page: ', source.metadata['page'] + 1)\n",
    "    print('\\n')"
   ]
  },
  {
   "cell_type": "code",
   "execution_count": 14,
   "metadata": {},
   "outputs": [
    {
     "name": "stdout",
     "output_type": "stream",
     "text": [
      " \"This study examines the spatial distribution of traffic load in cellular networks and proposes a model that captures the non-uniformity of this distribution. By analyzing traffic measurements from commercial networks, the authors demonstrate that the log-normal or Weibull distribution can be used to approximate the spatial traffic density. The proposed model, which incorporates sinusoidal variations, can be applied in cellular network simulations to generate realistic traffic patterns for performance evaluations.\"\n",
      "\n",
      "\n",
      "Source:  Spatial modeling of the traffic density in cellular networks.pdf\n",
      "Page:  1\n",
      "Content:  - Modeling and simulation of a cellular network typically assumes that the target area is divided into regular hexagonal cells and mobile stations (MSs) are uniformly scattered in each cell.\n",
      "- This implies a statistically uniform distribution of traffic load over space, but in reality the spatial traffic distribution is highly non-uniform across different cells, which calls for actual spatial traffic models.\n",
      "- In this article, we first present the analysis of traffic measurements collected from commercial cellular networks in China, and demonstrate that the spatial distribution of the traffic density (the traffic load per unit area) can be approximated by the log-normal or Weibull distribution depending on time and space.\n",
      "- Then we propose a spatial traffic model which generates large-scale spatial traffic variations by a sum of sinusoids that captures the characteristics of log-normally distributed and spatially correlated cellular traffic.\n",
      "- The proposed model can be directly used to generate realistic spatial traffic patterns for cellular network simulations, such as performance evaluations of network planning and load balancing.\n",
      "\n",
      "\n",
      "Source:  Spatial modeling of the traffic density in cellular networks.pdf\n",
      "Page:  7\n",
      "Content:  - \"In the simulation work in [12], the authors generate temporal and spatial variations of the user arrival rate for each cell by assuming the log-normal distribution for the spatial distribution of traffic load across cells.\"\n",
      "- \"Our proposed model can replace independent and identically distributed (i.i.d.) random variables (RVs) for the generation of user arrival rates of neighboring cells by spatially correlated RVs generated by Eq. 1.\"\n",
      "- \"Instead of the Pareto distribution, the log-normal or Weibull distribution can be assumed for the non-uniform distribution of the spatial traffic intensity in order to evaluate the performance of cellular networks.\"\n",
      "\n",
      "\n",
      "Source:  Spatio-temporal analysis and prediction of cellular traffic in metropolis.pdf\n",
      "Page:  3\n",
      "Content:  - demonstrates that the spatial distribution of the trafﬁc den-\n",
      "sity can be approximated by the log-normal or Weibull dis-\n",
      "tribution.\n",
      "- [23] analyzes the application-level trafﬁc and demonstrates\n",
      "that the trafﬁc at a service or application has a-stable mod-\n",
      "eled property in the temporal domain and the sparsity in the\n",
      "spatial domain.\n",
      "- Applying statistical covariance functions, a recent work\n",
      "[8] considers temporal and spatial factors simultaneously,\n",
      "which is the most similar to our work.\n",
      "\n",
      "\n",
      "Source:  Spatial Traffic Distribution In Cellular Networks.pdf\n",
      "Page:  2\n",
      "Content:  - \"The spatial distribution of the traffic density (the traffic load per unit area) can be approximated by the log-normal or Weibull distribution depending on time and space.\"\n",
      "- \"Then we propose a spatial traffic model which generates large-scale spatial traffic variations by a sum of sinusoids that captures the characteristics of log-normally distributed and spatially correlated cellular traffic.\"\n",
      "- \"The proposed model can be directly used to generate realistic spatial traffic patterns for cellular network simulations, such as performance evaluations of network planning and load balancing.\"\n",
      "- \"The spatial statistics of cellular tra& can be described by a lognormal distribution.\"\n",
      "- \"The confirmation of our hypothesis will be based on traffic measurements from the E-Plus network and standard statistical test methods.\"\n",
      "\n",
      "\n"
     ]
    }
   ],
   "source": [
    "abstract=\"\"\"Modeling and simulation of a cellular network typically assumes that the target area is divided into regular hexagonal cells and mobile stations (MSs) are uniformly scattered in each cell. This implies a statistically uniform distribution of traffic load over space, but in reality the spatial traffic distribution is highly non-uniform across different cells, which calls for actual spatial traffic models. In this article, we first present the analysis of traffic measurements collected from commercial cellular networks in China, and demonstrate that the spatial distribution of the traffic density (the traffic load per unit area) can be approximated by the log-normal or Weibull distribution depending on time and space. Then we propose a spatial traffic model which generates large-scale spatial traffic variations by a sum of sinusoids that captures the characteristics of log-normally distributed and spatially correlated cellular traffic. The proposed model can be directly used to generate realistic spatial traffic patterns for cellular network simulations, such as performance evaluations of network planning and load balancing.\"\"\"\n",
    "\n",
    "question = \"Find a abstract similar to the mentioned below: \" + abstract\n",
    "result = qa_chain({\"query\": question})\n",
    "\n",
    "print(result[\"result\"])\n",
    "print('\\n')\n",
    "\n",
    "for source in result['source_documents']:\n",
    "    print('Source: ', source.metadata['source'].split('/')[-1])\n",
    "    print('Page: ', source.metadata['page'] + 1)\n",
    "    print('Content: ', source.page_content)\n",
    "    print('\\n')"
   ]
  },
  {
   "cell_type": "code",
   "execution_count": null,
   "metadata": {},
   "outputs": [],
   "source": []
  }
 ],
 "metadata": {
  "kernelspec": {
   "display_name": "langflow",
   "language": "python",
   "name": "python3"
  },
  "language_info": {
   "codemirror_mode": {
    "name": "ipython",
    "version": 3
   },
   "file_extension": ".py",
   "mimetype": "text/x-python",
   "name": "python",
   "nbconvert_exporter": "python",
   "pygments_lexer": "ipython3",
   "version": "3.11.5"
  }
 },
 "nbformat": 4,
 "nbformat_minor": 2
}
